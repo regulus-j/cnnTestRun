{
 "cells": [
  {
   "cell_type": "code",
   "execution_count": 38,
   "id": "400d9a7f-0440-4a69-8fa8-8b585e0f03e7",
   "metadata": {},
   "outputs": [
    {
     "name": "stdout",
     "output_type": "stream",
     "text": [
      "On branch main\n",
      "Your branch is up to date with 'origin/main'.\n",
      "\n",
      "Changes not staged for commit:\n",
      "  (use \"git add <file>...\" to update what will be committed)\n",
      "  (use \"git restore <file>...\" to discard changes in working directory)\n",
      "\tmodified:   cnn_testrun.ipynb\n",
      "\n",
      "no changes added to commit (use \"git add\" and/or \"git commit -a\")\n"
     ]
    },
    {
     "name": "stderr",
     "output_type": "stream",
     "text": [
      "unknown option: -rm\n",
      "usage: git [-v | --version] [-h | --help] [-C <path>] [-c <name>=<value>]\n",
      "           [--exec-path[=<path>]] [--html-path] [--man-path] [--info-path]\n",
      "           [-p | --paginate | -P | --no-pager] [--no-replace-objects] [--no-lazy-fetch]\n",
      "           [--no-optional-locks] [--no-advice] [--bare] [--git-dir=<path>]\n",
      "           [--work-tree=<path>] [--namespace=<name>] [--config-env=<name>=<envvar>]\n",
      "           <command> [<args>]\n",
      "warning: in the working copy of 'cnn_testrun.ipynb', LF will be replaced by CRLF the next time Git touches it\n"
     ]
    },
    {
     "name": "stdout",
     "output_type": "stream",
     "text": [
      "[main 2b2479d] 'idk'\n",
      " 1 file changed, 18 insertions(+), 13 deletions(-)\n"
     ]
    },
    {
     "name": "stderr",
     "output_type": "stream",
     "text": [
      "To https://github.com/regulus-j/cnnTestRun.git\n",
      "   75db430..2b2479d  main -> main\n"
     ]
    }
   ],
   "source": [
    "!git status\n",
    "\n",
    "!git add .\n",
    "!git commit -m 'idk'\n",
    "!git push origin main"
   ]
  },
  {
   "cell_type": "code",
   "execution_count": 40,
   "id": "7b41c96f-4b65-4623-ba17-4c01e2a26fb2",
   "metadata": {},
   "outputs": [
    {
     "name": "stderr",
     "output_type": "stream",
     "text": [
      "fatal: not removing '.ipynb_checkpoints' recursively without -r\n"
     ]
    }
   ],
   "source": [
    "!git rm \".ipynb_checkpoints\"\n"
   ]
  },
  {
   "cell_type": "code",
   "execution_count": null,
   "id": "9b7131cb-7cdb-44f9-b594-562da22f7a6c",
   "metadata": {},
   "outputs": [],
   "source": []
  }
 ],
 "metadata": {
  "kernelspec": {
   "display_name": "Python 3 (ipykernel)",
   "language": "python",
   "name": "python3"
  },
  "language_info": {
   "codemirror_mode": {
    "name": "ipython",
    "version": 3
   },
   "file_extension": ".py",
   "mimetype": "text/x-python",
   "name": "python",
   "nbconvert_exporter": "python",
   "pygments_lexer": "ipython3",
   "version": "3.13.5"
  }
 },
 "nbformat": 4,
 "nbformat_minor": 5
}
