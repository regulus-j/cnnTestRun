{
 "cells": [
  {
   "cell_type": "code",
   "execution_count": 28,
   "id": "400d9a7f-0440-4a69-8fa8-8b585e0f03e7",
   "metadata": {},
   "outputs": [
    {
     "name": "stdout",
     "output_type": "stream",
     "text": [
      "On branch main\n",
      "Your branch is up to date with 'origin/main'.\n",
      "\n",
      "Changes to be committed:\n",
      "  (use \"git restore --staged <file>...\" to unstage)\n",
      "\trenamed:    .ipynb_checkpoints/Untitled-checkpoint.ipynb -> .ipynb_checkpoints/cnn_testrun-checkpoint.ipynb\n",
      "\tdeleted:    Untitled.ipynb\n",
      "\tnew file:   cnn_testrun.ipynb\n",
      "\n",
      "Changes not staged for commit:\n",
      "  (use \"git add <file>...\" to update what will be committed)\n",
      "  (use \"git restore <file>...\" to discard changes in working directory)\n",
      "\tmodified:   cnn_testrun.ipynb\n",
      "\n"
     ]
    },
    {
     "name": "stderr",
     "output_type": "stream",
     "text": [
      "fatal: pathspec ''.ipynb_checkpoints'' did not match any files\n",
      "'touch' is not recognized as an internal or external command,\n",
      "operable program or batch file.\n"
     ]
    }
   ],
   "source": [
    "!git status\n",
    "!git rm '.ipynb_checkpoints'\n",
    "!touch .gitignore"
   ]
  },
  {
   "cell_type": "code",
   "execution_count": null,
   "id": "7b41c96f-4b65-4623-ba17-4c01e2a26fb2",
   "metadata": {},
   "outputs": [],
   "source": []
  }
 ],
 "metadata": {
  "kernelspec": {
   "display_name": "Python 3 (ipykernel)",
   "language": "python",
   "name": "python3"
  },
  "language_info": {
   "codemirror_mode": {
    "name": "ipython",
    "version": 3
   },
   "file_extension": ".py",
   "mimetype": "text/x-python",
   "name": "python",
   "nbconvert_exporter": "python",
   "pygments_lexer": "ipython3",
   "version": "3.13.5"
  }
 },
 "nbformat": 4,
 "nbformat_minor": 5
}
